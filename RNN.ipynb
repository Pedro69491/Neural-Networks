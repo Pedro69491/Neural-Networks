{
  "nbformat": 4,
  "nbformat_minor": 0,
  "metadata": {
    "accelerator": "GPU",
    "colab": {
      "name": "RNN",
      "provenance": [],
      "collapsed_sections": [],
      "authorship_tag": "ABX9TyPGJmkg6vVg4X7Hx444XjCD",
      "include_colab_link": true
    },
    "kernelspec": {
      "display_name": "Python 3",
      "name": "python3"
    },
    "language_info": {
      "name": "python"
    }
  },
  "cells": [
    {
      "cell_type": "markdown",
      "metadata": {
        "id": "view-in-github",
        "colab_type": "text"
      },
      "source": [
        "<a href=\"https://colab.research.google.com/github/Pedro69491/Neural-Networks/blob/main/RNN.ipynb\" target=\"_parent\"><img src=\"https://colab.research.google.com/assets/colab-badge.svg\" alt=\"Open In Colab\"/></a>"
      ]
    },
    {
      "cell_type": "code",
      "metadata": {
        "id": "qolzBWjqvAam"
      },
      "source": [
        "import numpy as np\n",
        "import torch\n",
        "from torch import nn\n",
        "import torch.nn.functional as F\n",
        "import re"
      ],
      "execution_count": null,
      "outputs": []
    },
    {
      "cell_type": "code",
      "metadata": {
        "id": "gU1e_pvcnST_"
      },
      "source": [
        "\n",
        "with open('800053.txt', 'r') as f:\n",
        "    text = f.read()\n",
        "    \n",
        "\n",
        "\n",
        "\n",
        "\n"
      ],
      "execution_count": null,
      "outputs": []
    },
    {
      "cell_type": "code",
      "metadata": {
        "colab": {
          "base_uri": "https://localhost:8080/"
        },
        "id": "TIgt8T9tvhN0",
        "outputId": "1292359c-8d3d-473d-c70d-c8978d25bef9"
      },
      "source": [
        "device = \"cuda\" if torch.cuda.is_available() else \"cpu\"\n",
        "print(\"Using {} device\".format(device))\n"
      ],
      "execution_count": null,
      "outputs": [
        {
          "output_type": "stream",
          "text": [
            "Using cpu device\n"
          ],
          "name": "stdout"
        }
      ]
    },
    {
      "cell_type": "code",
      "metadata": {
        "id": "UiMir6dJnfMw"
      },
      "source": [
        "text = re.sub('<.>', '', text)\n",
        "text = re.sub('[^a-zA-Z]', ' ', text).lower()\n",
        "text = text.replace('  ', '')\n",
        "\n"
      ],
      "execution_count": null,
      "outputs": []
    },
    {
      "cell_type": "code",
      "metadata": {
        "id": "_wphhNY7nim7"
      },
      "source": [
        "chars = list(set(text))\n",
        "\n",
        "ind_char = dict(enumerate(chars))\n",
        " \n",
        "char_ind = {ch: ii for ii, ch in ind_char.items()}\n",
        " \n",
        "encoded = np.array([char_ind[ch] for ch in text[:10000]])\n",
        "\n"
      ],
      "execution_count": null,
      "outputs": []
    },
    {
      "cell_type": "code",
      "metadata": {
        "id": "shPqPqRDnmnQ"
      },
      "source": [
        "def one_hot_encode(arr, n_labels):\n",
        "    \n",
        "    one_hot = np.zeros((np.multiply(*arr.shape), n_labels), dtype=np.float32)\n",
        "    \n",
        "    one_hot[np.arange(one_hot.shape[0]), arr.flatten()] = 1.\n",
        "    \n",
        "    one_hot = one_hot.reshape((*arr.shape, n_labels))\n",
        "    \n",
        "    return one_hot"
      ],
      "execution_count": null,
      "outputs": []
    },
    {
      "cell_type": "code",
      "metadata": {
        "id": "r8Dt5GKJnp_Y"
      },
      "source": [
        "def get_batches(arr, n_seqs, n_steps):\n",
        "    \n",
        "    batch_size = n_seqs * n_steps\n",
        "    n_batches = len(arr)//batch_size\n",
        "    \n",
        "    arr = arr[:n_batches * batch_size]\n",
        "    \n",
        "    arr = arr.reshape((n_seqs, -1))\n",
        "    \n",
        "    for n in range(0, arr.shape[1], n_steps):\n",
        "\n",
        "        x = arr[:, n:n+n_steps]\n",
        "       \n",
        "        y = np.zeros_like(x)\n",
        "\n",
        "        try: \n",
        "            y[:, :-1], y[:, -1] = x[:, 1:], arr[:, n+n_steps]\n",
        "        except IndexError:\n",
        "            y[:, :-1], y[:, -1] = x[:, 1:], arr[:, 0]\n",
        "        yield x, y "
      ],
      "execution_count": null,
      "outputs": []
    },
    {
      "cell_type": "code",
      "metadata": {
        "id": "jcRsLFTxnsyk",
        "colab": {
          "base_uri": "https://localhost:8080/"
        },
        "outputId": "25b8a433-ca6f-4c9b-df33-9446d8e0382d"
      },
      "source": [
        "batches = get_batches(encoded, 10, 50)\n",
        "x, y = next(batches)\n",
        "\n",
        "print(x.shape)"
      ],
      "execution_count": null,
      "outputs": [
        {
          "output_type": "stream",
          "text": [
            "(10, 50)\n"
          ],
          "name": "stdout"
        }
      ]
    },
    {
      "cell_type": "code",
      "metadata": {
        "id": "4C8vV4yPnxjG"
      },
      "source": [
        "class RNN(nn.Module):\n",
        "    \n",
        "    def __init__(self, tokens, n_hidden, n_layers=2,\n",
        "                               drop_prob=0.2, lr=0.001):\n",
        "      super().__init__()\n",
        "      self.drop_prob = drop_prob\n",
        "      self.n_layers = n_layers\n",
        "      self.n_hidden = n_hidden\n",
        "      self.lr = lr\n",
        "      \n",
        "      self.chars = tokens\n",
        "      self.ind_char = dict(enumerate(self.chars))\n",
        "      self.char_ind = {ch: ii for ii, ch in self.ind_char.items()}\n",
        "      \n",
        "      self.rnn = nn.RNN(len(self.chars), n_hidden, n_layers, batch_first=True)\n",
        "      \n",
        "      self.dropout = nn.Dropout(drop_prob)\n",
        "      \n",
        "      self.fc = nn.Linear(n_hidden, len(self.chars))\n",
        "      \n",
        "    \n",
        "    def forward(self, x, h0):\n",
        "      \n",
        "      x, h = self.rnn(x, h0)\n",
        "\n",
        "      x = self.dropout(x)\n",
        "      \n",
        "      x = x.reshape(x.size()[0]*x.size()[1], self.n_hidden)\n",
        "      \n",
        "      x = self.fc(x)\n",
        "\n",
        "      return x\n",
        "  \n",
        "    \n",
        "    def predict(self, char, top_k=None):\n",
        "      \n",
        "      h = self.init_hidden(1)\n",
        "      \n",
        "      x = np.array([[self.char_ind[char]]])\n",
        "      x = one_hot_encode(x, len(self.chars))\n",
        "      \n",
        "      inputs = torch.from_numpy(x).to(device)\n",
        "      \n",
        "  \n",
        "      out = self.forward(inputs, h)\n",
        "\n",
        "      p = F.softmax(out, dim=1).data.cpu()\n",
        "      \n",
        "      \n",
        "      if top_k is None:\n",
        "          top_ch = np.arange(len(self.chars))\n",
        "      else:\n",
        "          p, top_ch = p.topk(top_k)\n",
        "          top_ch = top_ch.numpy().squeeze()\n",
        "\n",
        "      character = self.ind_char[torch.argmax(p).item()]\n",
        "      p = p.numpy().squeeze()   \n",
        "      return character, p\n",
        "\n",
        "      \n",
        "    def init_hidden(self, batch_size):\n",
        "        # initial hidden state for lstm\n",
        "        return (torch.randn(self.n_layers, batch_size, self.n_hidden).to(device))\n",
        "\n",
        "  "
      ],
      "execution_count": null,
      "outputs": []
    },
    {
      "cell_type": "code",
      "metadata": {
        "id": "J44uUFSLoOU9"
      },
      "source": [
        "def train(net, data, epochs=10, n_seqs=10, n_steps=50, lr=0.001, clip=5, print_every=10):\n",
        " \n",
        "    \n",
        "    net.train()\n",
        "    \n",
        "    opt = torch.optim.Adam(net.parameters(), lr=lr)\n",
        "    \n",
        "    criterion = nn.CrossEntropyLoss()\n",
        "  \n",
        "    \n",
        "    counter = 0\n",
        "    n_chars = len(net.chars)\n",
        "    \n",
        "    for e in range(epochs):\n",
        "        \n",
        "        h = net.init_hidden(n_seqs)\n",
        "       \n",
        "        \n",
        "        for x, y in get_batches(data, n_seqs, n_steps):\n",
        "            \n",
        "            counter += 1\n",
        "            \n",
        "            x = one_hot_encode(x, n_chars)\n",
        "            inputs, targets = torch.from_numpy(x), torch.from_numpy(y)\n",
        "            \n",
        "            inputs, targets = inputs.to(device), targets.to(device)\n",
        " \n",
        "            net.zero_grad()\n",
        "            output, h = net.forward(inputs, h)\n",
        "            loss = criterion(output, targets.reshape(n_seqs*n_steps).type(torch.cuda.LongTensor))\n",
        "            loss = torch.exp(loss)\n",
        " \n",
        "            loss.backward(retain_graph=True)\n",
        "            torch.autograd.set_detect_anomaly(True)\n",
        "            # `clip_grad_norm` helps prevent the exploding gradient problem in RNNs / LSTMs.\n",
        "            nn.utils.clip_grad_norm_(net.parameters(), clip)\n",
        " \n",
        "            opt.step()\n",
        "           \n",
        "            print(\"Epoch: {}/{}...\".format(e+1, epochs),\n",
        "                  \"Step: {}...\".format(counter),\n",
        "                  \"Loss: {:.4f}...\".format(loss.item()),)"
      ],
      "execution_count": null,
      "outputs": []
    },
    {
      "cell_type": "code",
      "metadata": {
        "id": "Sgaxdvf6oSAu"
      },
      "source": [
        "net = RNN(chars, n_hidden=512, n_layers=2) \n",
        "net.to(device)\n",
        "\n",
        "#10,50\n",
        "n_seqs, n_steps = 10, 50\n",
        "\n",
        "\n",
        "train(net, encoded, epochs=3, n_seqs=n_seqs, n_steps=n_steps, lr=0.001, print_every=10)\n",
        "chars_to_predict = [ch for ch in text[:16]]\n",
        "for c in chars_to_predict:\n",
        "  print(net.predict(c))\n",
        "#net.predict('a')\n"
      ],
      "execution_count": null,
      "outputs": []
    },
    {
      "cell_type": "code",
      "metadata": {
        "id": "KuxnsUynX07b"
      },
      "source": [
        ""
      ],
      "execution_count": null,
      "outputs": []
    }
  ]
}