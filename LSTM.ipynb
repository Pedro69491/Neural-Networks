{
  "nbformat": 4,
  "nbformat_minor": 0,
  "metadata": {
    "colab": {
      "name": "LSTM",
      "provenance": [],
      "collapsed_sections": [],
      "include_colab_link": true
    },
    "kernelspec": {
      "display_name": "Python 3",
      "name": "python3"
    },
    "language_info": {
      "name": "python"
    },
    "accelerator": "GPU"
  },
  "cells": [
    {
      "cell_type": "markdown",
      "metadata": {
        "id": "view-in-github",
        "colab_type": "text"
      },
      "source": [
        "<a href=\"https://colab.research.google.com/github/Pedro69491/Neural-Networks/blob/main/LSTM.ipynb\" target=\"_parent\"><img src=\"https://colab.research.google.com/assets/colab-badge.svg\" alt=\"Open In Colab\"/></a>"
      ]
    },
    {
      "cell_type": "code",
      "metadata": {
        "id": "rp_FFdMDx-fy"
      },
      "source": [
        "import numpy as np\n",
        "import torch\n",
        "from torch import nn\n",
        "import torch.nn.functional as F\n",
        "import re"
      ],
      "execution_count": null,
      "outputs": []
    },
    {
      "cell_type": "code",
      "metadata": {
        "id": "D8E0FAkBDZTT",
        "colab": {
          "base_uri": "https://localhost:8080/"
        },
        "outputId": "16c70d1d-4575-4169-b7eb-92462ad1add0"
      },
      "source": [
        "device = \"cuda\" if torch.cuda.is_available() else \"cpu\"\n",
        "print(\"Using {} device\".format(device))\n"
      ],
      "execution_count": null,
      "outputs": [
        {
          "output_type": "stream",
          "text": [
            "Using cuda device\n"
          ],
          "name": "stdout"
        }
      ]
    },
    {
      "cell_type": "code",
      "metadata": {
        "id": "AJd_itkSLe5O"
      },
      "source": [
        "with open('800053.txt', 'r') as f:\n",
        "    text = f.read()\n",
        "    \n",
        "\n",
        "\n"
      ],
      "execution_count": null,
      "outputs": []
    },
    {
      "cell_type": "code",
      "metadata": {
        "id": "aNM0SJ6HMtel"
      },
      "source": [
        "text = re.sub('<.>', '', text)\n",
        "text = re.sub('[^a-zA-Z]', ' ', text).lower()\n",
        "text = text.replace('  ', '')\n",
        "\n",
        "print(text[:10])"
      ],
      "execution_count": null,
      "outputs": []
    },
    {
      "cell_type": "code",
      "metadata": {
        "id": "EFdZEYF3Lykt"
      },
      "source": [
        "chars = list(set(text))\n",
        "print(len(chars))\n",
        "\n",
        "ind_char = dict(enumerate(chars))\n",
        " \n",
        "char_ind = {ch: ii for ii, ch in ind_char.items()}\n",
        " \n",
        "encoded = np.array([char_ind[ch] for ch in text[:10000]])\n",
        "print(encoded.shape)\n"
      ],
      "execution_count": null,
      "outputs": []
    },
    {
      "cell_type": "code",
      "metadata": {
        "id": "Zahp72eUL0F4"
      },
      "source": [
        "def one_hot_encode(arr, n_labels):\n",
        "    print(arr.shape)\n",
        "    print(n_labels)\n",
        "    one_hot = np.zeros((np.multiply(*arr.shape), n_labels), dtype=np.float32)\n",
        "    \n",
        "    one_hot[np.arange(one_hot.shape[0]), arr.flatten()] = 1.\n",
        "    \n",
        "    one_hot = one_hot.reshape((*arr.shape, n_labels))\n",
        "    \n",
        "    return one_hot"
      ],
      "execution_count": null,
      "outputs": []
    },
    {
      "cell_type": "code",
      "metadata": {
        "id": "ExIdW5GHL2kt"
      },
      "source": [
        "def get_batches(arr, n_seqs, n_steps):\n",
        "    \n",
        "    batch_size = n_seqs * n_steps\n",
        "    n_batches = len(arr)//batch_size\n",
        "\n",
        "    arr = arr[:n_batches * batch_size]\n",
        "\n",
        "    arr = arr.reshape((n_seqs, -1))\n",
        "    \n",
        "    for n in range(0, arr.shape[1], n_steps):\n",
        "\n",
        "        x = arr[:, n:n+n_steps]\n",
        "      \n",
        "        y = np.zeros_like(x)\n",
        "    \n",
        "        try: \n",
        "            y[:, :-1], y[:, -1] = x[:, 1:], arr[:, n+n_steps]\n",
        "        except IndexError:\n",
        "            y[:, :-1], y[:, -1] = x[:, 1:], arr[:, 0]\n",
        "        yield x, y "
      ],
      "execution_count": null,
      "outputs": []
    },
    {
      "cell_type": "code",
      "metadata": {
        "id": "dtCLA8-PL3vJ"
      },
      "source": [
        "batches = get_batches(encoded, 10, 50)\n",
        "print(len(encoded))\n",
        "x, y = next(batches)\n",
        "print(x)\n"
      ],
      "execution_count": null,
      "outputs": []
    },
    {
      "cell_type": "code",
      "metadata": {
        "id": "eO5W1tsoL5Xb"
      },
      "source": [
        "class LSTM(nn.Module):\n",
        "    \n",
        "    def __init__(self, tokens, n_steps=50, n_hidden=100, n_layers=2,\n",
        "                               drop_prob=0.2, lr=0.001):\n",
        "        super().__init__()\n",
        "        self.drop_prob = drop_prob\n",
        "        self.n_layers = n_layers\n",
        "        self.n_hidden = n_hidden\n",
        "        self.lr = lr\n",
        "        \n",
        "        self.chars = tokens\n",
        "        self.ind_char = dict(enumerate(self.chars))\n",
        "        self.char_ind = {ch: ii for ii, ch in self.ind_char.items()}\n",
        "        \n",
        "        self.lstm = nn.LSTM(len(self.chars), n_hidden, n_layers, \n",
        "                            dropout=drop_prob, batch_first=True)\n",
        "        \n",
        "        self.dropout = nn.Dropout(drop_prob)\n",
        "        \n",
        "        self.fc = nn.Linear(n_hidden, len(self.chars))\n",
        "        \n",
        "\n",
        "    def init_hidden(self, batch_size):\n",
        "        return (torch.randn(self.n_layers, batch_size, self.n_hidden).to(device),\n",
        "                torch.randn(self.n_layers, batch_size, self.n_hidden).to(device))  \n",
        "    \n",
        "    def forward(self, x, hc):\n",
        "        \n",
        "        print(x.shape)\n",
        "        x, (h, c) = self.lstm(x, hc)\n",
        "        print(x.shape)\n",
        "        x = self.dropout(x)\n",
        "        \n",
        "        x = x.reshape(x.size()[0]*x.size()[1], self.n_hidden)\n",
        "        \n",
        "        print(x.shape)\n",
        "        x = self.fc(x)\n",
        "        \n",
        "        return x, (h, c)\n",
        "    \n",
        "    \n",
        "    def predict(self, char, top_k=None):\n",
        "       \n",
        "        h = self.init_hidden(1)\n",
        "        x = np.array([[self.char_ind[char]]])\n",
        "        x = one_hot_encode(x, len(self.chars))\n",
        "        \n",
        "        inputs = torch.from_numpy(x).to(device)\n",
        "       \n",
        "        \n",
        "        h = tuple([each.data for each in h])\n",
        "        out, h = self.forward(inputs, h)\n",
        "\n",
        "        p = F.softmax(out, dim=1).data.cpu()\n",
        "        \n",
        "    \n",
        "        if top_k is None:\n",
        "            top_ch = np.arange(len(self.chars))\n",
        "        else:\n",
        "            p, top_ch = p.topk(top_k)\n",
        "            top_ch = top_ch.numpy().squeeze()\n",
        "        \n",
        "        character = self.ind_char[torch.argmax(p).item()]\n",
        "        p = p.numpy().squeeze()\n",
        "        print(p)   \n",
        "        return character, p\n",
        "        "
      ],
      "execution_count": null,
      "outputs": []
    },
    {
      "cell_type": "code",
      "metadata": {
        "id": "jcLwugr9L6yD"
      },
      "source": [
        "def train(net, data, epochs=10, n_seqs=10, n_steps=50, lr=0.001, clip=5, print_every=10):\n",
        " \n",
        "    \n",
        "    net.train()\n",
        "    \n",
        "    opt = torch.optim.Adam(net.parameters(), lr=lr)\n",
        "    \n",
        "    criterion = nn.CrossEntropyLoss()\n",
        "  \n",
        "    \n",
        "    counter = 0\n",
        "    n_chars = len(net.chars)\n",
        "  \n",
        "    \n",
        "    for e in range(epochs):\n",
        "        \n",
        "        h = net.init_hidden(n_seqs)\n",
        "        \n",
        "        for x, y in get_batches(data, n_seqs, n_steps):\n",
        "            \n",
        "            counter += 1\n",
        "            \n",
        "            x = one_hot_encode(x, n_chars)\n",
        "            inputs, targets = torch.from_numpy(x), torch.from_numpy(y)\n",
        "            \n",
        "            inputs, targets = inputs.to(device), targets.to(device)\n",
        " \n",
        "            h = tuple([each.data for each in h])\n",
        " \n",
        "            net.zero_grad()\n",
        "            \n",
        "            output, h = net.forward(inputs, h)\n",
        "            \n",
        "            loss = criterion(output, targets.reshape(n_seqs*n_steps).type(torch.cuda.LongTensor))\n",
        "            loss = torch.exp(loss)\n",
        " \n",
        "            loss.backward()\n",
        "            \n",
        "            # `clip_grad_norm` helps prevent the exploding gradient problem in RNNs / LSTMs.\n",
        "            nn.utils.clip_grad_norm_(net.parameters(), clip)\n",
        " \n",
        "            opt.step()\n",
        "           \n",
        "            #print(\"Epoch: {}/{}...\".format(e+1, epochs),\n",
        "                  #\"Step: {}...\".format(counter),\n",
        "                  #\"Loss: {:.4f}...\".format(loss.item()),)"
      ],
      "execution_count": null,
      "outputs": []
    },
    {
      "cell_type": "code",
      "metadata": {
        "id": "K_M0DdE_LElk"
      },
      "source": [
        "net = LSTM(chars, n_hidden=512, n_layers=2) \n",
        "net.to(device)\n",
        "\n",
        "print(net)\n",
        "#10,50\n",
        "n_seqs, n_steps = 10, 50\n",
        "\n",
        "\n",
        "train(net, encoded, epochs=3, n_seqs=n_seqs, n_steps=n_steps, lr=0.001, print_every=10)\n",
        "chars_to_predict = [ch for ch in text[:16]]\n",
        "for c in chars_to_predict:\n",
        "  print(net.predict(c))\n",
        "#print(net.predict('a'))"
      ],
      "execution_count": null,
      "outputs": []
    },
    {
      "cell_type": "code",
      "metadata": {
        "id": "eFSqfnDbdOmU"
      },
      "source": [
        ""
      ],
      "execution_count": null,
      "outputs": []
    }
  ]
}